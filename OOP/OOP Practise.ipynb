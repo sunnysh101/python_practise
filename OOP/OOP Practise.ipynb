{
 "cells": [
  {
   "cell_type": "markdown",
   "metadata": {},
   "source": [
    "# Python Object Oriented Programming\n",
    "## Source: https://www.educative.io/\n",
    "\n",
    "Topics Covered\n",
    "- Classes and Objects\n",
    "- Information Hiding (Encapsulation)\n",
    "- Inheritance\n",
    "- Polymorphism\n",
    "- Object Relationships"
   ]
  },
  {
   "cell_type": "markdown",
   "metadata": {},
   "source": [
    "## Class and Objects\n",
    "What are classes?\n",
    "Classes are schemas (framework, template, blueprint) of a real world representation of object\n",
    "What are objects?\n",
    "Objects are form of a real world entity that are initialized using the class.\n",
    "How is class and objects implemented?\n",
    "Classes are defined using the class keyword. Objects are initialized using the className() function\n",
    "What are class and instance variables?\n",
    "class variables are variables that are available throughout the class and doesn't need the class to be initialized\n",
    "instance variables are variables that are only created when an object is created as is associated only with that object\n",
    "What are class methods, static methods?\n",
    "Class methods are methods that exists throughtout the class\n",
    "static methods are methods that are associated with the class but doesn't use any of the variables within the classes.\n",
    "What are access modifiers?\n",
    "used for modifying the access of the variables\n",
    "Basically, access modification is non-existent in python but a similar implementation can be done using the double underscore method \"__\""
   ]
  },
  {
   "cell_type": "code",
   "execution_count": 18,
   "metadata": {},
   "outputs": [
    {
     "name": "stdout",
     "output_type": "stream",
     "text": [
      "Justin\n",
      "1\n",
      "This is class variable\n",
      "James\n",
      "Using access mod: James\n",
      "Updated class variable\n",
      "2\n"
     ]
    }
   ],
   "source": [
    "# Implementation of class\n",
    "class Employee:\n",
    "    # List of class variables\n",
    "    classvar = \"This is class variable\"\n",
    "    count = 0\n",
    "\n",
    "    # The concept of init is similar to a constructor but python\n",
    "    # doesn't have constructors. Rather it initializes the object\n",
    "    # with the values passed. \n",
    "    # Note: Initializers cannot return any values\n",
    "    def __init__(self, name):\n",
    "        self.__name = name # This is an instance variable\n",
    "        Employee.incr_count()\n",
    "\n",
    "    # Instance Method\n",
    "    def display_name(self):\n",
    "        print(self.__name)\n",
    "\n",
    "    def get_count(self):\n",
    "        print(self.count)\n",
    "\n",
    "    # Class method\n",
    "    @classmethod\n",
    "    def incr_count(cls):\n",
    "        cls.count += 1\n",
    "\n",
    "\n",
    "# Initializing class\n",
    "emp = Employee(\"Justin\")\n",
    "\n",
    "# Printing a value from the class\n",
    "emp.display_name()\n",
    "emp.get_count()\n",
    "\n",
    "# Printing class variable\n",
    "print(Employee.classvar)\n",
    "\n",
    "# Modifying class variable\n",
    "Employee.classvar = \"Updated class variable\"\n",
    "\n",
    "emp2 = Employee(\"James\")\n",
    "emp2.display_name()\n",
    "\n",
    "# Also access the class variable using following:\n",
    "print(\"Using access mod:\", emp2._Employee__name)\n",
    "\n",
    "# Class variable has been updated\n",
    "print(emp2.classvar)\n",
    "emp2.get_count()\n"
   ]
  },
  {
   "cell_type": "markdown",
   "metadata": {},
   "source": [
    "## Information Hiding (Encapsulation and Abstraction)\n",
    "Encapsulation is binding data and methods to manipulate the data together in a single unit ie. class\n",
    "- Convention: all variables of a class must be private and accessed using methods i.e. getters and setters.\n",
    "\n",
    "Getters and setters are functions that helps to get or set the values.\n"
   ]
  },
  {
   "cell_type": "markdown",
   "metadata": {},
   "source": [
    "# Inheritance\n",
    "\n",
    "Inheritance is used whenever there is an IS A relationship\n",
    "Square IS A Shape\n",
    "Car IS A Vehicle\n",
    "\n",
    "We can derive Square from the Shape class"
   ]
  },
  {
   "cell_type": "code",
   "execution_count": 19,
   "metadata": {},
   "outputs": [],
   "source": [
    "# Syntax\n",
    "\n",
    "class ParentClass:\n",
    "    pass\n",
    "    # attributes of the parent class\n",
    "\n",
    "\n",
    "class ChildClass(ParentClass):\n",
    "    pass\n",
    "    # attributes of the child class"
   ]
  },
  {
   "cell_type": "markdown",
   "metadata": {},
   "source": [
    "## Super function\n",
    "\n",
    "Super refers to the parent class when inherited by the child class without explicitly naming it.\n",
    "Super is used within the __init__ function, and is used to initialize the parent class.\n"
   ]
  },
  {
   "cell_type": "code",
   "execution_count": null,
   "metadata": {},
   "outputs": [],
   "source": [
    "# To initialize the parent class use\n",
    "# super().__init__(arg1, arg2)"
   ]
  },
  {
   "cell_type": "markdown",
   "metadata": {},
   "source": [
    "## Types of inheritance\n",
    "- Single Inheritance (Parent -> child)\n",
    "- Multi-level inheritance (Ancestor -> Parent -> child) \n",
    "- Hierarchical inheritance ((Parent -> child1, child2))\n",
    "- Multiple inheritance ((Parent1, Parent2 -> child))\n",
    "- Hybrid inheritance (Ancestor -> Parent 1, Parent2 -> child) "
   ]
  },
  {
   "cell_type": "code",
   "execution_count": 20,
   "metadata": {},
   "outputs": [
    {
     "name": "stdout",
     "output_type": "stream",
     "text": [
      "Parent\n"
     ]
    }
   ],
   "source": [
    "class Parent:\n",
    "    def prn(self):\n",
    "        print(\"Parent\")\n",
    "\n",
    "\n",
    "class Child(Parent):\n",
    "    def __init__(self):\n",
    "        self.a = Parent()\n",
    "\n",
    "    def prn(self):\n",
    "        print(\"Child\")\n",
    "\n",
    "\n",
    "temp = Child()\n",
    "temp.a.prn()\n"
   ]
  }
 ],
 "metadata": {
  "interpreter": {
   "hash": "31f2aee4e71d21fbe5cf8b01ff0e069b9275f58929596ceb00d14d90e3e16cd6"
  },
  "kernelspec": {
   "display_name": "Python 3.8.9 64-bit",
   "language": "python",
   "name": "python3"
  },
  "language_info": {
   "codemirror_mode": {
    "name": "ipython",
    "version": 3
   },
   "file_extension": ".py",
   "mimetype": "text/x-python",
   "name": "python",
   "nbconvert_exporter": "python",
   "pygments_lexer": "ipython3",
   "version": "3.8.9"
  },
  "orig_nbformat": 4
 },
 "nbformat": 4,
 "nbformat_minor": 2
}
